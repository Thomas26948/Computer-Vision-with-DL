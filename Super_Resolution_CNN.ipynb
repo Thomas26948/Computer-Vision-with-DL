{
  "nbformat": 4,
  "nbformat_minor": 0,
  "metadata": {
    "colab": {
      "name": "tp_deep_learning_cnn_part_3_for_students.ipynb",
      "provenance": [],
      "collapsed_sections": []
    },
    "kernelspec": {
      "name": "python3",
      "display_name": "Python 3"
    },
    "language_info": {
      "name": "python"
    },
    "accelerator": "GPU"
  },
  "cells": [
    {
      "cell_type": "markdown",
      "metadata": {
        "id": "mPf2yufekv0f"
      },
      "source": [
        "\n",
        "\n",
        "> Bloc en retrait\n",
        "\n",
        "\n",
        "# Super-resolution with CNN\n",
        "\n",
        " \n",
        "## Objective:\n",
        "\n",
        "We want to implement a Convolutional Neural Network (CNN) to do image super-resolution.\n",
        "\n",
        "## Image super-resolution:\n",
        "\n",
        "The super-resolution problem can be summarised as follows. We have an image as an input, which is defined over a grid $\\{0,1,\\dots, m-1\\} \\times \\{0,1,\\dots, n-1\\}$. We define a factor $\\delta$, by which we upsample the image. The output of the super-resolution is an image defined on the grid $\\{0,\\frac{1}{\\delta},\\dots, m-1\\} \\times \\{0,\\frac{1}{\\delta},\\dots, n-1\\}$.\n",
        "\n",
        "\n",
        "## Dataset\n",
        "\n",
        "We will be using the mnist dataset for this part. This is to ensure we can obtain good results. The input data should be the subsampled version of the mnist images, subsampled by taking one out of every $\\delta$ pixels. The output data should be the normal-resolution mnist images.\n",
        "\n",
        "__IMPORTANT NOTES:__\n",
        "- We will use ```n_max=5000``` to limit the number of datapoints to go faster\n",
        "- We set $\\delta$ to 2\n",
        "\n",
        "\n",
        "We have created a function ```super_res_interpolate```, which carries out super-resolution using basic interpolation (bilinear or bicubic), with which we can compare your results visually and numerically.\n",
        "\n"
      ]
    },
    {
      "cell_type": "code",
      "metadata": {
        "id": "5utO2_UDyKs3",
        "colab": {
          "base_uri": "https://localhost:8080/"
        },
        "outputId": "1c27cab9-fbb0-4b8f-ee23-9dd499161448"
      },
      "source": [
        "\n",
        "# # Load packages\n",
        "\n",
        "%matplotlib inline\n",
        "import matplotlib.pyplot as plt\n",
        "import numpy as np\n",
        "\n",
        "import tensorflow as tf\n",
        "from tensorflow.keras.utils import to_categorical\n",
        "\n",
        "from tensorflow.keras.models import Sequential, Model\n",
        "from tensorflow.keras.layers import Dense, Dropout, Activation, Flatten, Input\n",
        "from tensorflow.keras.layers import Conv2D, MaxPooling2D, UpSampling2D\n",
        "from tensorflow.keras import optimizers\n",
        "from scipy import interpolate\n",
        "print(tf.keras.__version__)"
      ],
      "execution_count": null,
      "outputs": [
        {
          "output_type": "stream",
          "name": "stdout",
          "text": [
            "2.7.0\n"
          ]
        }
      ]
    },
    {
      "cell_type": "markdown",
      "metadata": {
        "id": "mcXyExW4vgmk"
      },
      "source": [
        " This function carries out a bilinear upsampling, with which we can compare our super-resolution."
      ]
    },
    {
      "cell_type": "code",
      "metadata": {
        "id": "np3Dj3tuqEqn"
      },
      "source": [
        "# choice of the interpolation method\n",
        "interp_method = 'linear'\n",
        "# upsampling factor\n",
        "delta = 2\n",
        "# the maximum number of data to take from mnist (to go a bit faster)\n",
        "n_max = 5000\n",
        "\n",
        "# upsample by a factor of delta\n",
        "# by definition, the new grid has a step size of 1/delta\n",
        "def super_res_interpolate(imgs_in,delta,interp_method = 'linear'):\n",
        "\timgs_out = tf.image.resize( tf.constant(imgs_in),\\\n",
        "\t\t[delta*imgs_in.shape[1],delta*imgs_in.shape[2]], method='bilinear').numpy()\n",
        "\n",
        "\treturn(imgs_out)\n"
      ],
      "execution_count": null,
      "outputs": []
    },
    {
      "cell_type": "markdown",
      "metadata": {
        "id": "m00dElRdLBsa"
      },
      "source": [
        "\n",
        "# Initialisation of the dataset\n",
        "\n",
        "For the dataset, we are using MNIST Images.\n",
        "Our \"X\" are made of images whose sizes have been divided by 2.\n",
        "And the \"Y\" are made of the initial images.\n",
        "In the following code, we are processing the data in order to have the correct shape for the next part.\n"
      ]
    },
    {
      "cell_type": "code",
      "metadata": {
        "id": "Hfx5BxeUqKf-",
        "colab": {
          "base_uri": "https://localhost:8080/"
        },
        "outputId": "bc086d1b-5282-4969-f295-1426ee8521ac"
      },
      "source": [
        "\n",
        "from keras.datasets import mnist\n",
        "(X_train, Y_train_scalar), (X_test, Y_test_scalar) = mnist.load_data()\n",
        "\n",
        "X_train = X_train.astype('float32')\n",
        "X_test = X_test.astype('float32')\n",
        "X_train /= 255\n",
        "X_test /= 255\n",
        "\n",
        "X_train = X_train[0:n_max,:,:]\n",
        "X_test = X_test[0:n_max,:,:]\n",
        "\n",
        "Y_train = X_train[...,tf.newaxis]\n",
        "Y_test = X_test[...,tf.newaxis]\n",
        "\n",
        "print(X_train.shape)\n",
        "print(X_test.shape)\n"
      ],
      "execution_count": null,
      "outputs": [
        {
          "output_type": "stream",
          "name": "stdout",
          "text": [
            "(5000, 28, 28)\n",
            "(5000, 28, 28)\n"
          ]
        }
      ]
    },
    {
      "cell_type": "code",
      "metadata": {
        "colab": {
          "base_uri": "https://localhost:8080/"
        },
        "id": "krBwfbsfx6sC",
        "outputId": "f5190d2e-c611-4e66-8be2-f7729ad96e1e"
      },
      "source": [
        "# X_train = tf.image.resize()\n",
        "X_train = X_train[...,tf.newaxis]\n",
        "X_train = tf.strided_slice(X_train,[0,0,0,0],[X_train.shape[0],28,28,1],[1,2,2,1])\n",
        "X_test = X_test[...,tf.newaxis]\n",
        "X_test = tf.strided_slice(X_test,[0,0,0,0],[X_test.shape[0],28,28,1],[1,2,2,1])\n",
        "\n",
        "print(X_train.shape)\n",
        "print(X_test.shape)"
      ],
      "execution_count": null,
      "outputs": [
        {
          "output_type": "stream",
          "name": "stdout",
          "text": [
            "(5000, 14, 14, 1)\n",
            "(5000, 14, 14, 1)\n"
          ]
        }
      ]
    },
    {
      "cell_type": "markdown",
      "metadata": {
        "id": "st_r3OVtLuJl"
      },
      "source": [
        "# The model\n",
        "\n",
        "We are relying on a paper presented in class for the construction of the model.\n",
        "\n",
        "http://mmlab.ie.cuhk.edu.hk/projects/SRCNN.html\n",
        "\n",
        "Chao Dong, Chen Change Loy, Kaiming He, Xiaoou Tang. Learning a Deep Convolutional Network for Image Super-Resolution, in Proceedings of European Conference on Computer Vision (ECCV), 2014 \n",
        "\n",
        "So basically we are first resizing our images through an Upsampling layer.\n",
        "Then we are setting 3 CNN (2 Conv2D and 1 Conv2DTranspose).\n",
        "We are using ReLU as activation functions and SAME padding. In the last layer, we put a sigmoid in order to get a pixel between 0 and 1.\n",
        "\n"
      ]
    },
    {
      "cell_type": "code",
      "metadata": {
        "id": "gvg9eTUr0H-_"
      },
      "source": [
        "model = Sequential()\n",
        "\n",
        "model.add(UpSampling2D(size=(delta,delta),data_format=\"channels_last\",interpolation='bilinear'))\n",
        "model.add(Conv2D(64,(9,9),activation='relu',padding='same'))\n",
        "model.add(Conv2D(32,(1,1),activation='relu',padding='same'))\n",
        "model.add(tf.keras.layers.Conv2DTranspose(1,(5,5),padding='same',activation='sigmoid'))\n",
        "\n",
        "model.build(input_shape=(5000,14,14,1))"
      ],
      "execution_count": null,
      "outputs": []
    },
    {
      "cell_type": "code",
      "metadata": {
        "id": "XVCOqbvR5soD"
      },
      "source": [
        "# HYPERPARAMETERS\n",
        "\n",
        "learning_rate = 0.01\n",
        "n_epochs = 100\n",
        "batch_size = 64\n"
      ],
      "execution_count": null,
      "outputs": []
    },
    {
      "cell_type": "markdown",
      "metadata": {
        "id": "LYxEvUHNMoMA"
      },
      "source": [
        "Next we are compiling the model. \n",
        "We are using MeanSquaredError as the loss function. This is the one that makes the more sense in regard to the objective. \n",
        "As a matter of fact, we want to minimize the value of the pixels between the image computed and the real image.\n"
      ]
    },
    {
      "cell_type": "code",
      "metadata": {
        "colab": {
          "base_uri": "https://localhost:8080/"
        },
        "id": "D78EHRG354u6",
        "outputId": "58b4ff36-65b6-4a2e-fe19-db9ddad27913"
      },
      "source": [
        "model.compile(optimizer=tf.keras.optimizers.SGD(),\n",
        "              loss=tf.keras.losses.MeanSquaredError(),\n",
        "              metrics=['accuracy'])\n",
        "\n",
        "model.summary()\n",
        "model.fit(X_train, Y_train, epochs=n_epochs,batch_size=batch_size)\n",
        "\n",
        "score = model.evaluate(X_test, Y_test, verbose=False)\n",
        "print(\"Test set  : \", score)\n",
        "print(\" Loss : \", score[0])\n",
        "print(\" Accuracy : \", score[1])\n"
      ],
      "execution_count": null,
      "outputs": [
        {
          "output_type": "stream",
          "name": "stdout",
          "text": [
            "Model: \"sequential\"\n",
            "_________________________________________________________________\n",
            " Layer (type)                Output Shape              Param #   \n",
            "=================================================================\n",
            " up_sampling2d (UpSampling2D  (5000, 28, 28, 1)        0         \n",
            " )                                                               \n",
            "                                                                 \n",
            " conv2d (Conv2D)             (5000, 28, 28, 64)        5248      \n",
            "                                                                 \n",
            " conv2d_1 (Conv2D)           (5000, 28, 28, 32)        2080      \n",
            "                                                                 \n",
            " conv2d_transpose (Conv2DTra  (5000, 28, 28, 1)        801       \n",
            " nspose)                                                         \n",
            "                                                                 \n",
            "=================================================================\n",
            "Total params: 8,129\n",
            "Trainable params: 8,129\n",
            "Non-trainable params: 0\n",
            "_________________________________________________________________\n",
            "Epoch 1/100\n",
            "79/79 [==============================] - 3s 10ms/step - loss: 0.2056 - accuracy: 0.7253\n",
            "Epoch 2/100\n",
            "79/79 [==============================] - 1s 9ms/step - loss: 0.1433 - accuracy: 0.8091\n",
            "Epoch 3/100\n",
            "79/79 [==============================] - 1s 9ms/step - loss: 0.1003 - accuracy: 0.8091\n",
            "Epoch 4/100\n",
            "79/79 [==============================] - 1s 9ms/step - loss: 0.0742 - accuracy: 0.8093\n",
            "Epoch 5/100\n",
            "79/79 [==============================] - 1s 8ms/step - loss: 0.0586 - accuracy: 0.8100\n",
            "Epoch 6/100\n",
            "79/79 [==============================] - 1s 9ms/step - loss: 0.0485 - accuracy: 0.8100\n",
            "Epoch 7/100\n",
            "79/79 [==============================] - 1s 9ms/step - loss: 0.0417 - accuracy: 0.8095\n",
            "Epoch 8/100\n",
            "79/79 [==============================] - 1s 8ms/step - loss: 0.0370 - accuracy: 0.8092\n",
            "Epoch 9/100\n",
            "79/79 [==============================] - 1s 8ms/step - loss: 0.0335 - accuracy: 0.8091\n",
            "Epoch 10/100\n",
            "79/79 [==============================] - 1s 8ms/step - loss: 0.0310 - accuracy: 0.8093\n",
            "Epoch 11/100\n",
            "79/79 [==============================] - 1s 8ms/step - loss: 0.0289 - accuracy: 0.8095\n",
            "Epoch 12/100\n",
            "79/79 [==============================] - 1s 8ms/step - loss: 0.0272 - accuracy: 0.8097\n",
            "Epoch 13/100\n",
            "79/79 [==============================] - 1s 9ms/step - loss: 0.0258 - accuracy: 0.8099\n",
            "Epoch 14/100\n",
            "79/79 [==============================] - 1s 8ms/step - loss: 0.0246 - accuracy: 0.8101\n",
            "Epoch 15/100\n",
            "79/79 [==============================] - 1s 8ms/step - loss: 0.0236 - accuracy: 0.8104\n",
            "Epoch 16/100\n",
            "79/79 [==============================] - 1s 8ms/step - loss: 0.0226 - accuracy: 0.8106\n",
            "Epoch 17/100\n",
            "79/79 [==============================] - 1s 8ms/step - loss: 0.0218 - accuracy: 0.8107\n",
            "Epoch 18/100\n",
            "79/79 [==============================] - 1s 8ms/step - loss: 0.0211 - accuracy: 0.8109\n",
            "Epoch 19/100\n",
            "79/79 [==============================] - 1s 8ms/step - loss: 0.0205 - accuracy: 0.8111\n",
            "Epoch 20/100\n",
            "79/79 [==============================] - 1s 8ms/step - loss: 0.0199 - accuracy: 0.8112\n",
            "Epoch 21/100\n",
            "79/79 [==============================] - 1s 8ms/step - loss: 0.0194 - accuracy: 0.8113\n",
            "Epoch 22/100\n",
            "79/79 [==============================] - 1s 9ms/step - loss: 0.0189 - accuracy: 0.8114\n",
            "Epoch 23/100\n",
            "79/79 [==============================] - 1s 8ms/step - loss: 0.0184 - accuracy: 0.8115\n",
            "Epoch 24/100\n",
            "79/79 [==============================] - 1s 8ms/step - loss: 0.0180 - accuracy: 0.8116\n",
            "Epoch 25/100\n",
            "79/79 [==============================] - 1s 8ms/step - loss: 0.0176 - accuracy: 0.8117\n",
            "Epoch 26/100\n",
            "79/79 [==============================] - 1s 8ms/step - loss: 0.0173 - accuracy: 0.8118\n",
            "Epoch 27/100\n",
            "79/79 [==============================] - 1s 8ms/step - loss: 0.0170 - accuracy: 0.8119\n",
            "Epoch 28/100\n",
            "79/79 [==============================] - 1s 8ms/step - loss: 0.0167 - accuracy: 0.8119\n",
            "Epoch 29/100\n",
            "79/79 [==============================] - 1s 8ms/step - loss: 0.0164 - accuracy: 0.8120\n",
            "Epoch 30/100\n",
            "79/79 [==============================] - 1s 9ms/step - loss: 0.0161 - accuracy: 0.8121\n",
            "Epoch 31/100\n",
            "79/79 [==============================] - 1s 8ms/step - loss: 0.0159 - accuracy: 0.8121\n",
            "Epoch 32/100\n",
            "79/79 [==============================] - 1s 8ms/step - loss: 0.0157 - accuracy: 0.8122\n",
            "Epoch 33/100\n",
            "79/79 [==============================] - 1s 9ms/step - loss: 0.0155 - accuracy: 0.8122\n",
            "Epoch 34/100\n",
            "79/79 [==============================] - 1s 8ms/step - loss: 0.0153 - accuracy: 0.8123\n",
            "Epoch 35/100\n",
            "79/79 [==============================] - 1s 8ms/step - loss: 0.0151 - accuracy: 0.8123\n",
            "Epoch 36/100\n",
            "79/79 [==============================] - 1s 8ms/step - loss: 0.0149 - accuracy: 0.8124\n",
            "Epoch 37/100\n",
            "79/79 [==============================] - 1s 8ms/step - loss: 0.0147 - accuracy: 0.8124\n",
            "Epoch 38/100\n",
            "79/79 [==============================] - 1s 8ms/step - loss: 0.0146 - accuracy: 0.8124\n",
            "Epoch 39/100\n",
            "79/79 [==============================] - 1s 8ms/step - loss: 0.0144 - accuracy: 0.8125\n",
            "Epoch 40/100\n",
            "79/79 [==============================] - 1s 9ms/step - loss: 0.0143 - accuracy: 0.8125\n",
            "Epoch 41/100\n",
            "79/79 [==============================] - 1s 9ms/step - loss: 0.0141 - accuracy: 0.8125\n",
            "Epoch 42/100\n",
            "79/79 [==============================] - 1s 8ms/step - loss: 0.0140 - accuracy: 0.8126\n",
            "Epoch 43/100\n",
            "79/79 [==============================] - 1s 8ms/step - loss: 0.0139 - accuracy: 0.8126\n",
            "Epoch 44/100\n",
            "79/79 [==============================] - 1s 8ms/step - loss: 0.0137 - accuracy: 0.8126\n",
            "Epoch 45/100\n",
            "79/79 [==============================] - 1s 9ms/step - loss: 0.0136 - accuracy: 0.8126\n",
            "Epoch 46/100\n",
            "79/79 [==============================] - 1s 9ms/step - loss: 0.0135 - accuracy: 0.8127\n",
            "Epoch 47/100\n",
            "79/79 [==============================] - 1s 8ms/step - loss: 0.0134 - accuracy: 0.8127\n",
            "Epoch 48/100\n",
            "79/79 [==============================] - 1s 8ms/step - loss: 0.0133 - accuracy: 0.8127\n",
            "Epoch 49/100\n",
            "79/79 [==============================] - 1s 9ms/step - loss: 0.0132 - accuracy: 0.8127\n",
            "Epoch 50/100\n",
            "79/79 [==============================] - 1s 8ms/step - loss: 0.0131 - accuracy: 0.8128\n",
            "Epoch 51/100\n",
            "79/79 [==============================] - 1s 8ms/step - loss: 0.0130 - accuracy: 0.8128\n",
            "Epoch 52/100\n",
            "79/79 [==============================] - 1s 8ms/step - loss: 0.0129 - accuracy: 0.8128\n",
            "Epoch 53/100\n",
            "79/79 [==============================] - 1s 8ms/step - loss: 0.0128 - accuracy: 0.8128\n",
            "Epoch 54/100\n",
            "79/79 [==============================] - 1s 8ms/step - loss: 0.0127 - accuracy: 0.8128\n",
            "Epoch 55/100\n",
            "79/79 [==============================] - 1s 8ms/step - loss: 0.0127 - accuracy: 0.8128\n",
            "Epoch 56/100\n",
            "79/79 [==============================] - 1s 8ms/step - loss: 0.0126 - accuracy: 0.8129\n",
            "Epoch 57/100\n",
            "79/79 [==============================] - 1s 8ms/step - loss: 0.0125 - accuracy: 0.8129\n",
            "Epoch 58/100\n",
            "79/79 [==============================] - 1s 9ms/step - loss: 0.0124 - accuracy: 0.8129\n",
            "Epoch 59/100\n",
            "79/79 [==============================] - 1s 9ms/step - loss: 0.0124 - accuracy: 0.8129\n",
            "Epoch 60/100\n",
            "79/79 [==============================] - 1s 8ms/step - loss: 0.0123 - accuracy: 0.8129\n",
            "Epoch 61/100\n",
            "79/79 [==============================] - 1s 8ms/step - loss: 0.0122 - accuracy: 0.8129\n",
            "Epoch 62/100\n",
            "79/79 [==============================] - 1s 8ms/step - loss: 0.0121 - accuracy: 0.8130\n",
            "Epoch 63/100\n",
            "79/79 [==============================] - 1s 8ms/step - loss: 0.0121 - accuracy: 0.8130\n",
            "Epoch 64/100\n",
            "79/79 [==============================] - 1s 8ms/step - loss: 0.0120 - accuracy: 0.8130\n",
            "Epoch 65/100\n",
            "79/79 [==============================] - 1s 8ms/step - loss: 0.0120 - accuracy: 0.8130\n",
            "Epoch 66/100\n",
            "79/79 [==============================] - 1s 8ms/step - loss: 0.0119 - accuracy: 0.8130\n",
            "Epoch 67/100\n",
            "79/79 [==============================] - 1s 8ms/step - loss: 0.0118 - accuracy: 0.8130\n",
            "Epoch 68/100\n",
            "79/79 [==============================] - 1s 9ms/step - loss: 0.0118 - accuracy: 0.8130\n",
            "Epoch 69/100\n",
            "79/79 [==============================] - 1s 9ms/step - loss: 0.0117 - accuracy: 0.8131\n",
            "Epoch 70/100\n",
            "79/79 [==============================] - 1s 9ms/step - loss: 0.0117 - accuracy: 0.8131\n",
            "Epoch 71/100\n",
            "79/79 [==============================] - 1s 8ms/step - loss: 0.0116 - accuracy: 0.8131\n",
            "Epoch 72/100\n",
            "79/79 [==============================] - 1s 9ms/step - loss: 0.0116 - accuracy: 0.8131\n",
            "Epoch 73/100\n",
            "79/79 [==============================] - 1s 8ms/step - loss: 0.0115 - accuracy: 0.8131\n",
            "Epoch 74/100\n",
            "79/79 [==============================] - 1s 8ms/step - loss: 0.0115 - accuracy: 0.8131\n",
            "Epoch 75/100\n",
            "79/79 [==============================] - 1s 8ms/step - loss: 0.0114 - accuracy: 0.8131\n",
            "Epoch 76/100\n",
            "79/79 [==============================] - 1s 9ms/step - loss: 0.0114 - accuracy: 0.8131\n",
            "Epoch 77/100\n",
            "79/79 [==============================] - 1s 8ms/step - loss: 0.0113 - accuracy: 0.8131\n",
            "Epoch 78/100\n",
            "79/79 [==============================] - 1s 8ms/step - loss: 0.0113 - accuracy: 0.8132\n",
            "Epoch 79/100\n",
            "79/79 [==============================] - 1s 8ms/step - loss: 0.0112 - accuracy: 0.8132\n",
            "Epoch 80/100\n",
            "79/79 [==============================] - 1s 8ms/step - loss: 0.0112 - accuracy: 0.8132\n",
            "Epoch 81/100\n",
            "79/79 [==============================] - 1s 8ms/step - loss: 0.0111 - accuracy: 0.8132\n",
            "Epoch 82/100\n",
            "79/79 [==============================] - 1s 8ms/step - loss: 0.0111 - accuracy: 0.8132\n",
            "Epoch 83/100\n",
            "79/79 [==============================] - 1s 8ms/step - loss: 0.0111 - accuracy: 0.8132\n",
            "Epoch 84/100\n",
            "79/79 [==============================] - 1s 9ms/step - loss: 0.0110 - accuracy: 0.8132\n",
            "Epoch 85/100\n",
            "79/79 [==============================] - 1s 8ms/step - loss: 0.0110 - accuracy: 0.8132\n",
            "Epoch 86/100\n",
            "79/79 [==============================] - 1s 8ms/step - loss: 0.0109 - accuracy: 0.8132\n",
            "Epoch 87/100\n",
            "79/79 [==============================] - 1s 8ms/step - loss: 0.0109 - accuracy: 0.8133\n",
            "Epoch 88/100\n",
            "79/79 [==============================] - 1s 9ms/step - loss: 0.0109 - accuracy: 0.8133\n",
            "Epoch 89/100\n",
            "79/79 [==============================] - 1s 9ms/step - loss: 0.0108 - accuracy: 0.8133\n",
            "Epoch 90/100\n",
            "79/79 [==============================] - 1s 9ms/step - loss: 0.0108 - accuracy: 0.8133\n",
            "Epoch 91/100\n",
            "79/79 [==============================] - 1s 8ms/step - loss: 0.0108 - accuracy: 0.8133\n",
            "Epoch 92/100\n",
            "79/79 [==============================] - 1s 8ms/step - loss: 0.0107 - accuracy: 0.8133\n",
            "Epoch 93/100\n",
            "79/79 [==============================] - 1s 8ms/step - loss: 0.0107 - accuracy: 0.8133\n",
            "Epoch 94/100\n",
            "79/79 [==============================] - 1s 8ms/step - loss: 0.0106 - accuracy: 0.8133\n",
            "Epoch 95/100\n",
            "79/79 [==============================] - 1s 9ms/step - loss: 0.0106 - accuracy: 0.8133\n",
            "Epoch 96/100\n",
            "79/79 [==============================] - 1s 9ms/step - loss: 0.0106 - accuracy: 0.8133\n",
            "Epoch 97/100\n",
            "79/79 [==============================] - 1s 8ms/step - loss: 0.0106 - accuracy: 0.8133\n",
            "Epoch 98/100\n",
            "79/79 [==============================] - 1s 9ms/step - loss: 0.0105 - accuracy: 0.8133\n",
            "Epoch 99/100\n",
            "79/79 [==============================] - 1s 8ms/step - loss: 0.0105 - accuracy: 0.8133\n",
            "Epoch 100/100\n",
            "79/79 [==============================] - 1s 8ms/step - loss: 0.0105 - accuracy: 0.8133\n",
            "Test set  :  [0.010904412716627121, 0.8219201564788818]\n",
            " Loss :  0.010904412716627121\n",
            " Accuracy :  0.8219201564788818\n"
          ]
        }
      ]
    },
    {
      "cell_type": "markdown",
      "metadata": {
        "id": "8L1YyLu6NIOu"
      },
      "source": [
        "# Conclusion\n",
        "\n",
        "After training the model, we can see that we are getting an accuracy of 81%. The accuracy doesn't increase a lot but that's not disturbing. In fact, the accuracy is not the best way to see if 2 images looks the same. A pixel can take 256 different values. But the difference between 2 close value is not observable for human. \n",
        "That's why looking at the loss gives us more information. We can see that the loss has been divided by more than 5 so that's encouraging."
      ]
    },
    {
      "cell_type": "markdown",
      "metadata": {
        "id": "Q0DhZYc9N4Zu"
      },
      "source": [
        "Now we are going to compare the results of our model with the result of the function from the beginning.\n",
        "To do so, we'll look at the image, but we are also going to rely on a new metric, called Peak Signal Noise Ration (PSNR). It is introduced in the paper already cited above, and it is basically a good metric to measure the quality of an image and its compression. Usually, a bigger PSNR means an image of higher quality"
      ]
    },
    {
      "cell_type": "code",
      "metadata": {
        "colab": {
          "base_uri": "https://localhost:8080/",
          "height": 246
        },
        "id": "3EPd67LaP7Uu",
        "outputId": "985f33e7-ecc2-4e1b-e5e8-f975a4fd67f6"
      },
      "source": [
        "fig,axs = plt.subplots(1,4,figsize=(15,15))\n",
        "\n",
        "i = int(np.random.random() * 4997)\n",
        "\n",
        "axs[0].imshow(X_test[i,...,0],cmap='gray')\n",
        "axs[0].set_title(\"Compressed image\")\n",
        "\n",
        "axs[1].imshow(model(X_test)[i,...,0],cmap='gray')\n",
        "axs[1].set_title(\"Image after the model\")\n",
        "\n",
        "axs[2].imshow(Y_test[i,...,0],cmap='gray')\n",
        "axs[2].set_title(\"Real image\")\n",
        "\n",
        "axs[3].imshow(super_res_interpolate(X_test,2)[i,...,0],cmap='gray')\n",
        "axs[3].set_title(\"super_res_interpolate image\")\n",
        "\n",
        "plt.show()\n"
      ],
      "execution_count": null,
      "outputs": [
        {
          "output_type": "display_data",
          "data": {
            "image/png": "[encoded data removed]",
            "text/plain": [
              "<Figure size 1080x1080 with 4 Axes>"
            ]
          },
          "metadata": {
            "needs_background": "light"
          }
        }
      ]
    },
    {
      "cell_type": "markdown",
      "metadata": {
        "id": "B2mXf0u-qP_p"
      },
      "source": [
        "We can see that the model produces an image that looks a lot like the original one."
      ]
    },
    {
      "cell_type": "code",
      "metadata": {
        "id": "_5Io47g6SFpk"
      },
      "source": [
        "def my_metric(X,Y):\n",
        "  \"\"\"\n",
        "  We are defining the PSNR metrice between 2 images.\n",
        "  \n",
        "  \"\"\"\n",
        "  return tf.reduce_mean(tf.image.psnr(X,Y , 1))"
      ],
      "execution_count": null,
      "outputs": []
    },
    {
      "cell_type": "markdown",
      "metadata": {
        "id": "B2aTFnwyTd0D"
      },
      "source": [
        "First, we compare the PSNR computed on our images predicted and through the super_res_interpolate function"
      ]
    },
    {
      "cell_type": "code",
      "metadata": {
        "colab": {
          "base_uri": "https://localhost:8080/"
        },
        "id": "qfWhInxcT6Dp",
        "outputId": "4d7693e2-fe50-433c-ec43-7a5250d0a5b3"
      },
      "source": [
        "Y_inter_polate_pred = super_res_interpolate(X_test,2)\n",
        "Y_inter_polate_pred.shape"
      ],
      "execution_count": null,
      "outputs": [
        {
          "output_type": "execute_result",
          "data": {
            "text/plain": [
              "(5000, 28, 28, 1)"
            ]
          },
          "metadata": {},
          "execution_count": 10
        }
      ]
    },
    {
      "cell_type": "code",
      "metadata": {
        "colab": {
          "base_uri": "https://localhost:8080/"
        },
        "id": "JcfD-YzSTUze",
        "outputId": "fd609cea-b848-43d0-8d1c-f46e954288a0"
      },
      "source": [
        "my_metric(model(X_test),Y_test)"
      ],
      "execution_count": null,
      "outputs": [
        {
          "output_type": "execute_result",
          "data": {
            "text/plain": [
              "<tf.Tensor: shape=(), dtype=float32, numpy=19.97584>"
            ]
          },
          "metadata": {},
          "execution_count": 11
        }
      ]
    },
    {
      "cell_type": "code",
      "metadata": {
        "colab": {
          "base_uri": "https://localhost:8080/"
        },
        "id": "ze9_y4QhTXz0",
        "outputId": "61e29c44-0a8c-4e87-cae9-21cf5b476657"
      },
      "source": [
        "my_metric(Y_inter_polate_pred,Y_test)"
      ],
      "execution_count": null,
      "outputs": [
        {
          "output_type": "execute_result",
          "data": {
            "text/plain": [
              "<tf.Tensor: shape=(), dtype=float32, numpy=16.60349>"
            ]
          },
          "metadata": {},
          "execution_count": 12
        }
      ]
    },
    {
      "cell_type": "markdown",
      "metadata": {
        "id": "-XfGqrAiTu6D"
      },
      "source": [
        "So with our model, the PSNR on the whole dataset is 20.0dB whereas it is 16.6dB through the function. "
      ]
    },
    {
      "cell_type": "markdown",
      "metadata": {
        "id": "vkQrV70JT8mi"
      },
      "source": [
        "Then, we compute the Mean Squared Loss Error"
      ]
    },
    {
      "cell_type": "code",
      "metadata": {
        "colab": {
          "base_uri": "https://localhost:8080/"
        },
        "id": "pmkLcgErYYEn",
        "outputId": "a3045740-a345-4c55-dec9-6b86bcd925d0"
      },
      "source": [
        "tf.math.reduce_mean(((Y_inter_polate_pred) - Y_test)**2)"
      ],
      "execution_count": null,
      "outputs": [
        {
          "output_type": "execute_result",
          "data": {
            "text/plain": [
              "<tf.Tensor: shape=(), dtype=float32, numpy=0.022703482>"
            ]
          },
          "metadata": {},
          "execution_count": 13
        }
      ]
    },
    {
      "cell_type": "code",
      "metadata": {
        "colab": {
          "base_uri": "https://localhost:8080/"
        },
        "id": "QeV2k5DgLmJL",
        "outputId": "9fd9ac3f-4e33-4f0b-90c1-d3ee54ab2841"
      },
      "source": [
        "tf.math.reduce_mean((model(X_test) - Y_test)**2)"
      ],
      "execution_count": null,
      "outputs": [
        {
          "output_type": "execute_result",
          "data": {
            "text/plain": [
              "<tf.Tensor: shape=(), dtype=float32, numpy=0.010904411>"
            ]
          },
          "metadata": {},
          "execution_count": 14
        }
      ]
    },
    {
      "cell_type": "markdown",
      "metadata": {
        "id": "KAnD9PmgUGUh"
      },
      "source": [
        "Once again, our model is having better results (0.011 < 0.023)"
      ]
    },
    {
      "cell_type": "markdown",
      "metadata": {
        "id": "4FZ3b3s0UOYt"
      },
      "source": [
        "Finally, we can look at the accuracy : "
      ]
    },
    {
      "cell_type": "code",
      "metadata": {
        "colab": {
          "base_uri": "https://localhost:8080/"
        },
        "id": "NdO2uEAoNey0",
        "outputId": "387da8f2-ab23-412a-c1a8-23192ead631f"
      },
      "source": [
        "print(\"Accuracy : \", (Y_inter_polate_pred == Y_test).sum()/(5000*28*28))"
      ],
      "execution_count": null,
      "outputs": [
        {
          "output_type": "stream",
          "name": "stdout",
          "text": [
            "Accuracy :  0.6955734693877551\n"
          ]
        }
      ]
    },
    {
      "cell_type": "markdown",
      "metadata": {
        "id": "edS73bOgtdK8"
      },
      "source": [
        "The accuracy is also lower. We found 82% earlier with our model, whereas we only got 70% here."
      ]
    }
  ]
}